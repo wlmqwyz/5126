{
 "cells": [
  {
   "cell_type": "markdown",
   "metadata": {},
   "source": [
    "Add the data recourse:\n",
    "Car:\n",
    "URl:https://data.gov.hk/sc-data/dataset/hk-td-wcms_11-first-reg-vehicle\n",
    "Air quilty:\n",
    "URL:https://cd.epic.epd.gov.hk/EPICDI/air/station/?lang=en\n"
   ]
  },
  {
   "cell_type": "code",
   "execution_count": 6,
   "metadata": {},
   "outputs": [
    {
     "name": "stdout",
     "output_type": "stream",
     "text": [
      "Statistics for 2020-2024 saved to output_vehicle_statistics.csv\n"
     ]
    }
   ],
   "source": [
    "import pandas as pd\n",
    "import os\n",
    "\n",
    "# Folder path containing data files for multiple years\n",
    "folder_path = 'hongkong car data/'\n",
    "\n",
    "# List all files in the folder and filter out those from 2020 and onwards\n",
    "years = [2020, 2021, 2022, 2023, 2024]\n",
    "files = {year: [f for f in os.listdir(folder_path) if str(year) in f] for year in years}\n",
    "\n",
    "# Define a function to categorize engine size ranges\n",
    "def categorize_engine_size(cc):\n",
    "    if cc <= 1000:\n",
    "        return '1000cc and below'\n",
    "    elif 1001 <= cc <= 1600:\n",
    "        return '1001-1600cc'\n",
    "    elif 1601 <= cc <= 2000:\n",
    "        return '1601-2000cc'\n",
    "    elif 2001 <= cc <= 3000:\n",
    "        return '2001-3000cc'\n",
    "    else:\n",
    "        return '3001cc and above'\n",
    "\n",
    "# Define output file\n",
    "output_file = 'output_vehicle_statistics.csv'\n",
    "\n",
    "# Clear the contents of the output file and write the header\n",
    "with open(output_file, 'w') as f:\n",
    "    f.write('year,cc_rating,number\\n')\n",
    "\n",
    "# Iterate through each year\n",
    "for year, file_list in files.items():\n",
    "    all_data = pd.DataFrame()  # To store all monthly data for the year\n",
    "\n",
    "    # Iterate through each month's file for the year\n",
    "    for file in file_list:\n",
    "        file_path = os.path.join(folder_path, file)\n",
    "        \n",
    "        # Read the file data\n",
    "        df = pd.read_csv(file_path)\n",
    "        \n",
    "        # Convert the \"Cylinder Capacity Of Engine (c.c.)\" column to numeric, setting errors to NaN\n",
    "        df['Cylinder Capacity Of Engine (c.c.)'] = pd.to_numeric(df['Cylinder Capacity Of Engine (c.c.)'], errors='coerce')\n",
    "        \n",
    "        # Drop rows where engine capacity is missing (i.e., cannot be converted to numeric)\n",
    "        df = df.dropna(subset=['Cylinder Capacity Of Engine (c.c.)'])\n",
    "        \n",
    "        # Add a new column to categorize engine size ranges\n",
    "        df['cc_rating'] = df['Cylinder Capacity Of Engine (c.c.)'].apply(categorize_engine_size)\n",
    "        \n",
    "        # Add a year column\n",
    "        df['year'] = year\n",
    "        \n",
    "        # Concatenate the monthly data into the year's data\n",
    "        all_data = pd.concat([all_data, df], ignore_index=True)\n",
    "\n",
    "    # Aggregate the annual engine size statistics\n",
    "    annual_counts = all_data.groupby(['year', 'cc_rating']).size().reset_index(name='number')\n",
    "\n",
    "    # Append the annual aggregated data to the CSV file without writing the header\n",
    "    annual_counts.to_csv(output_file, mode='a', header=False, index=False)\n",
    "\n",
    "print(f'Statistics for 2020-2024 saved to {output_file}')\n",
    "\n",
    "\n"
   ]
  },
  {
   "cell_type": "code",
   "execution_count": 8,
   "metadata": {},
   "outputs": [
    {
     "name": "stdout",
     "output_type": "stream",
     "text": [
      "File processed and sorted. Results saved to fix_air_daily.csv.\n"
     ]
    }
   ],
   "source": [
    "import pandas as pd\n",
    "import os\n",
    "\n",
    "def process_file(file_path, output_file):\n",
    "    # Read the CSV file\n",
    "    df = pd.read_csv(file_path)\n",
    "\n",
    "    # Convert data to long format\n",
    "    df_melted = df.melt(id_vars=['DATE', 'POLLUTANT'], var_name='region', value_name='value')\n",
    "\n",
    "    # Filter out 'N.A.' data (Uncomment if needed)\n",
    "    # df_melted = df_melted[df_melted['value'] != 'N.A.']\n",
    "\n",
    "    # Convert the 'DATE' column to datetime format to ensure correct sorting\n",
    "    df_melted['DATE'] = pd.to_datetime(df_melted['DATE'], format='%d-%m-%Y')\n",
    "\n",
    "    # Sort by DATE and region\n",
    "    df_sorted = df_melted.sort_values(by=['DATE', 'region'])\n",
    "\n",
    "    # Check if the output file exists\n",
    "    if os.path.exists(output_file):\n",
    "        # If the file exists, clear its content by opening it in write mode and writing the header\n",
    "        with open(output_file, 'w') as f:\n",
    "            f.write('DATE,POLLUTANT,region,value\\n')\n",
    "    else:\n",
    "        # If the file does not exist, create it and write the header\n",
    "        with open(output_file, 'w') as f:\n",
    "            f.write('DATE,POLLUTANT,region,value\\n')\n",
    "\n",
    "    # Write the processed and sorted data to the output file in append mode without writing the header again\n",
    "    df_sorted.to_csv(output_file, mode='a', header=False, index=False)\n",
    "\n",
    "if __name__ == \"__main__\":\n",
    "    # Input file path\n",
    "    input_file = 'air_daily.csv'  # Replace with your input file path\n",
    "    # Output file path\n",
    "    output_file = 'fix_air_daily.csv'  # Replace with your desired output file path\n",
    "\n",
    "    # Process a single file\n",
    "    process_file(input_file, output_file)\n",
    "\n",
    "    print(f'File processed and sorted. Results saved to {output_file}.')\n",
    "\n",
    "\n",
    "\n"
   ]
  }
 ],
 "metadata": {
  "kernelspec": {
   "display_name": "Python 3",
   "language": "python",
   "name": "python3"
  },
  "language_info": {
   "codemirror_mode": {
    "name": "ipython",
    "version": 3
   },
   "file_extension": ".py",
   "mimetype": "text/x-python",
   "name": "python",
   "nbconvert_exporter": "python",
   "pygments_lexer": "ipython3",
   "version": "3.11.4"
  }
 },
 "nbformat": 4,
 "nbformat_minor": 2
}
