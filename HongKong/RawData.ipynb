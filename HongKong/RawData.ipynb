{
 "cells": [
  {
   "cell_type": "code",
   "execution_count": 11,
   "metadata": {},
   "outputs": [
    {
     "name": "stdout",
     "output_type": "stream",
     "text": [
      "Statistics for 2020-2024 saved to output_vehicle_statistics.csv\n"
     ]
    }
   ],
   "source": [
    "import pandas as pd\n",
    "import os\n",
    "\n",
    "# 文件夹路径，包含多个年份的数据文件\n",
    "folder_path = 'hongkong car data/'\n",
    "\n",
    "# 列出文件夹中的所有文件，并过滤出2020及之后的年份\n",
    "years = [2020, 2021, 2022, 2023, 2024]\n",
    "files = {year: [f for f in os.listdir(folder_path) if str(year) in f] for year in years}\n",
    "\n",
    "# 定义排量区间分类函数\n",
    "def categorize_engine_size(cc):\n",
    "    if cc <= 1000:\n",
    "        return '1000cc and below'\n",
    "    elif 1001 <= cc <= 1600:\n",
    "        return '1001-1600cc'\n",
    "    elif 1601 <= cc <= 2000:\n",
    "        return '1601-2000cc'\n",
    "    elif 2001 <= cc <= 3000:\n",
    "        return '2001-3000cc'\n",
    "    else:\n",
    "        return '3001cc and above'\n",
    "\n",
    "# 初始化一个空的 DataFrame 用于保存年度数据\n",
    "all_year_data = pd.DataFrame()\n",
    "\n",
    "# 遍历每一年\n",
    "for year, file_list in files.items():\n",
    "    all_data = pd.DataFrame()  # 用于存储该年所有月份的数据\n",
    "\n",
    "    # 遍历该年每个月的文件\n",
    "    for file in file_list:\n",
    "        file_path = os.path.join(folder_path, file)\n",
    "        \n",
    "        # 读取文件数据\n",
    "        df = pd.read_csv(file_path)\n",
    "        \n",
    "        # 将\"cylinder capacity\"列转换为数值类型，错误值设置为NaN\n",
    "        df['Cylinder Capacity Of Engine (c.c.)'] = pd.to_numeric(df['Cylinder Capacity Of Engine (c.c.)'], errors='coerce')\n",
    "        \n",
    "        # 删除排量为空的行（即不能转换为数值的行）\n",
    "        df = df.dropna(subset=['Cylinder Capacity Of Engine (c.c.)'])\n",
    "        \n",
    "        # 添加新的列，用于分类排量区间\n",
    "        df['cc_rating'] = df['Cylinder Capacity Of Engine (c.c.)'].apply(categorize_engine_size)\n",
    "        \n",
    "        # 添加年份列\n",
    "        df['year'] = year\n",
    "        \n",
    "        # 将每个月的数据合并到该年的数据\n",
    "        all_data = pd.concat([all_data, df])\n",
    "\n",
    "    # 累计该年整年的排量统计\n",
    "    annual_counts = all_data.groupby(['year', 'cc_rating']).size().reset_index(name='number')\n",
    "\n",
    "    # 将每年的累计数据追加保存到CSV文件中\n",
    "    output_file = 'output_vehicle_statistics.csv'\n",
    "    if os.path.exists(output_file):\n",
    "        # 如果文件已存在，使用 append 模式 ('a')，并且不写入列名\n",
    "        annual_counts.to_csv(output_file, mode='a', header=False, index=False)\n",
    "    else:\n",
    "        # 如果文件不存在，创建文件并写入列名\n",
    "        annual_counts.to_csv(output_file, mode='w', header=True, index=False)\n",
    "\n",
    "print(f'Statistics for 2020-2024 saved to {output_file}')\n"
   ]
  },
  {
   "cell_type": "code",
   "execution_count": 19,
   "metadata": {},
   "outputs": [
    {
     "name": "stdout",
     "output_type": "stream",
     "text": [
      "File processed and sorted. Results saved to fix_air_daily.csv.\n"
     ]
    }
   ],
   "source": [
    "import pandas as pd\n",
    "import os\n",
    "\n",
    "def process_file(file_path, output_file):\n",
    "    # 读取 CSV 文件\n",
    "    df = pd.read_csv(file_path)\n",
    "\n",
    "    # 将数据转换为长格式\n",
    "    df_melted = df.melt(id_vars=['DATE', 'POLLUTANT'], var_name='region', value_name='value')\n",
    "\n",
    "    # 过滤掉'N.A.'的数据\n",
    "    df_melted = df_melted[df_melted['value'] != 'N.A.']\n",
    "\n",
    "    # 将'DATE'列转换为日期格式，以确保正确排序\n",
    "    df_melted['DATE'] = pd.to_datetime(df_melted['DATE'], format='%d-%m-%Y')\n",
    "\n",
    "    # 按DATE和region排序\n",
    "    df_sorted = df_melted.sort_values(by=['DATE', 'region'])\n",
    "\n",
    "    # 将处理并排序后的数据写入到输出文件中\n",
    "    df_sorted.to_csv(output_file, mode='w', index=False)\n",
    "\n",
    "if __name__ == \"__main__\":\n",
    "    # 输入文件路径\n",
    "    input_file = 'air_daily.csv'  # 替换为你输入的文件路径\n",
    "    # 输出文件路径\n",
    "    output_file = 'fix_air_daily.csv'  # 替换为你想要的输出文件路径\n",
    "\n",
    "    # 处理单个文件\n",
    "    process_file(input_file, output_file)\n",
    "\n",
    "    print(f'File processed and sorted. Results saved to {output_file}.')\n"
   ]
  }
 ],
 "metadata": {
  "kernelspec": {
   "display_name": "Python 3",
   "language": "python",
   "name": "python3"
  },
  "language_info": {
   "codemirror_mode": {
    "name": "ipython",
    "version": 3
   },
   "file_extension": ".py",
   "mimetype": "text/x-python",
   "name": "python",
   "nbconvert_exporter": "python",
   "pygments_lexer": "ipython3",
   "version": "3.11.4"
  }
 },
 "nbformat": 4,
 "nbformat_minor": 2
}
